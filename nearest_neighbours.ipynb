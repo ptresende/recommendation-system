{
 "cells": [
  {
   "cell_type": "code",
   "execution_count": 1,
   "metadata": {
    "collapsed": true
   },
   "outputs": [],
   "source": [
    "import sys\n",
    "\n",
    "import numpy as np\n",
    "import pandas as pd\n",
    "\n",
    "from sklearn.neighbors import NearestNeighbors\n",
    "from sklearn.ensemble import RandomForestRegressor"
   ]
  },
  {
   "cell_type": "code",
   "execution_count": 2,
   "metadata": {
    "collapsed": true
   },
   "outputs": [],
   "source": [
    "SHOW_DATA = True"
   ]
  },
  {
   "cell_type": "markdown",
   "metadata": {},
   "source": [
    "## Load data"
   ]
  },
  {
   "cell_type": "code",
   "execution_count": 3,
   "metadata": {
    "collapsed": false
   },
   "outputs": [],
   "source": [
    "# Users file\n",
    "users_cols = ['user_id', 'age', 'sex', 'occupation', 'zip_code']\n",
    "users = pd.read_csv('ml-100k/u.user', sep='|', names=users_cols, encoding='latin-1')\n",
    "\n",
    "# Ratings file\n",
    "ratings_cols = ['user_id', 'movie_id', 'rating', 'unix_timestamp']\n",
    "ratings = pd.read_csv('ml-100k/u.data', sep='\\t', names=ratings_cols, encoding='latin-1')\n",
    "\n",
    "# Train + Test ratings\n",
    "ratings_train = pd.read_csv('ml-100k/ua.base', sep='\\t', names=ratings_cols, encoding='latin-1')\n",
    "ratings_test = pd.read_csv('ml-100k/ua.test', sep='\\t', names=ratings_cols, encoding='latin-1')\n",
    "\n",
    "# Items file\n",
    "items_cols = ['movie id', 'movie title' ,'release date','video release date', 'IMDb URL', 'unknown', 'Action', 'Adventure',\n",
    "              'Animation', 'Children\\'s', 'Comedy', 'Crime', 'Documentary', 'Drama', 'Fantasy', 'Film-Noir', 'Horror',\n",
    "              'Musical', 'Mystery', 'Romance', 'Sci-Fi', 'Thriller', 'War', 'Western']\n",
    "items = pd.read_csv('ml-100k/u.item', sep='|', names=items_cols, encoding='latin-1')"
   ]
  },
  {
   "cell_type": "code",
   "execution_count": 4,
   "metadata": {
    "collapsed": false
   },
   "outputs": [
    {
     "name": "stdout",
     "output_type": "stream",
     "text": [
      "Users: (943, 5) \n",
      "   user_id  age sex  occupation zip_code\n",
      "0        1   24   M  technician    85711\n",
      "1        2   53   F       other    94043\n",
      "2        3   23   M      writer    32067\n",
      "3        4   24   M  technician    43537\n",
      "4        5   33   F       other    15213 \n",
      "\n",
      "\n",
      "Ratings: (100000, 4) \n",
      "   user_id  movie_id  rating  unix_timestamp\n",
      "0      196       242       3       881250949\n",
      "1      186       302       3       891717742\n",
      "2       22       377       1       878887116\n",
      "3      244        51       2       880606923\n",
      "4      166       346       1       886397596 \n",
      "\n",
      "\n",
      "Items: (1682, 24) \n",
      "   movie id        movie title release date  video release date  \\\n",
      "0         1   Toy Story (1995)  01-Jan-1995                 NaN   \n",
      "1         2   GoldenEye (1995)  01-Jan-1995                 NaN   \n",
      "2         3  Four Rooms (1995)  01-Jan-1995                 NaN   \n",
      "3         4  Get Shorty (1995)  01-Jan-1995                 NaN   \n",
      "4         5     Copycat (1995)  01-Jan-1995                 NaN   \n",
      "\n",
      "                                            IMDb URL  unknown  Action  \\\n",
      "0  http://us.imdb.com/M/title-exact?Toy%20Story%2...        0       0   \n",
      "1  http://us.imdb.com/M/title-exact?GoldenEye%20(...        0       1   \n",
      "2  http://us.imdb.com/M/title-exact?Four%20Rooms%...        0       0   \n",
      "3  http://us.imdb.com/M/title-exact?Get%20Shorty%...        0       1   \n",
      "4  http://us.imdb.com/M/title-exact?Copycat%20(1995)        0       0   \n",
      "\n",
      "   Adventure  Animation  Children's   ...     Fantasy  Film-Noir  Horror  \\\n",
      "0          0          1           1   ...           0          0       0   \n",
      "1          1          0           0   ...           0          0       0   \n",
      "2          0          0           0   ...           0          0       0   \n",
      "3          0          0           0   ...           0          0       0   \n",
      "4          0          0           0   ...           0          0       0   \n",
      "\n",
      "   Musical  Mystery  Romance  Sci-Fi  Thriller  War  Western  \n",
      "0        0        0        0       0         0    0        0  \n",
      "1        0        0        0       0         1    0        0  \n",
      "2        0        0        0       0         1    0        0  \n",
      "3        0        0        0       0         0    0        0  \n",
      "4        0        0        0       0         1    0        0  \n",
      "\n",
      "[5 rows x 24 columns]\n"
     ]
    }
   ],
   "source": [
    "if SHOW_DATA:\n",
    "    print \"Users:\", users.shape, \"\\n\", users.head(), \"\\n\\n\"\n",
    "    print \"Ratings:\", ratings.shape, \"\\n\", ratings.head(), \"\\n\\n\"\n",
    "    print \"Items:\", items.shape, \"\\n\", items.head()"
   ]
  },
  {
   "cell_type": "markdown",
   "metadata": {},
   "source": [
    "## Item-based NN recommendations"
   ]
  },
  {
   "cell_type": "code",
   "execution_count": 5,
   "metadata": {
    "collapsed": false
   },
   "outputs": [],
   "source": [
    "# Fit a k=20 KDTree with the movies genres as features\n",
    "\n",
    "movie_features = pd.DataFrame(data=items, columns=[\"Action\", \"Adventure\", \"Animation\", \"Children's\", \"Comedy\", \"Crime\", \n",
    "                                                   \"Documentary\", \"Drama\", \"Fantasy\", \"Film-Noir\", \"Horror\", \"Musical\",\n",
    "                                                   \"Mystery\", \"Romance\", \"Sci-Fi\", \"Thriller\", \"War\", \"Western\"])\n",
    "\n",
    "knn = NearestNeighbors(n_neighbors=20).fit(movie_features)"
   ]
  },
  {
   "cell_type": "code",
   "execution_count": 6,
   "metadata": {
    "collapsed": false
   },
   "outputs": [
    {
     "name": "stdout",
     "output_type": "stream",
     "text": [
      "Recommendations for Animation + Children's + Comedy:\n",
      "\tAladdin and the King of Thieves (1996)\n",
      "\tToy Story (1995)\n",
      "\tAir Bud (1997)\n",
      "\tGeorge of the Jungle (1997)\n",
      "\tLittle Rascals, The (1994)\n",
      "\tD3: The Mighty Ducks (1996)\n",
      "\tHome Alone (1990)\n",
      "\tJungle2Jungle (1997)\n",
      "\tHeavyweights (1994)\n",
      "\tBeavis and Butt-head Do America (1996)\n",
      "\tFlintstones, The (1994)\n",
      "\tSanta Clause, The (1994)\n",
      "\tMouse Hunt (1997)\n",
      "\tWrong Trousers, The (1993)\n",
      "\tGrand Day Out, A (1992)\n",
      "\tPinocchio (1940)\n",
      "\tMatilda (1996)\n",
      "\tLove Bug, The (1969)\n",
      "\tAladdin (1992)\n",
      "\tAristocats, The (1970)\n",
      "\n",
      "\n",
      "Recommendations for Sci-Fi + Adventure:\n",
      "\tCity of Lost Children, The (1995)\n",
      "\tBarbarella (1968)\n",
      "\tStar Trek V: The Final Frontier (1989)\n",
      "\tStar Trek: The Motion Picture (1979)\n",
      "\tSpecies (1995)\n",
      "\tMark of Zorro, The (1940)\n",
      "\tJurassic Park (1993)\n",
      "\tStar Trek VI: The Undiscovered Country (1991)\n",
      "\tScreamers (1995)\n",
      "\tForbidden Planet (1956)\n",
      "\tTetsuo II: Body Hammer (1992)\n",
      "\tSphere (1998)\n",
      "\tMan Who Would Be King, The (1975)\n",
      "\tAlphaville (1965)\n",
      "\tTreasure of the Sierra Madre, The (1948)\n",
      "\tStar Trek: First Contact (1996)\n",
      "\tSecret of Roan Inish, The (1994)\n",
      "\tBrazil (1985)\n",
      "\tClockwork Orange, A (1971)\n",
      "\tPhantom, The (1996)\n"
     ]
    }
   ],
   "source": [
    "# Use kNN to, given a certain movie genre, recommend similar movies\n",
    "\n",
    "# Example: Animation + Children's + Comedy\n",
    "distances, indices = knn.kneighbors(np.array([[0, 0, 1, 1, 1, 0, 0, 0, 0, 0, 0, 0, 0, 0, 0, 0, 0, 0]]))\n",
    "\n",
    "print \"Recommendations for Animation + Children's + Comedy:\"\n",
    "for index in indices[0]:\n",
    "    print \"\\t\", items[items[\"movie id\"] == (index + 1)][\"movie title\"].values[0]  # index is offset by 1!\n",
    "    \n",
    "# Example: Sci-Fi + Adventure\n",
    "distances, indices = knn.kneighbors(np.array([[0, 1, 0, 0, 0, 0, 0, 0, 0, 0, 0, 0, 0, 0, 1, 0, 0, 0]]))\n",
    "\n",
    "print \"\\n\\nRecommendations for Sci-Fi + Adventure:\"\n",
    "for index in indices[0]:\n",
    "    print \"\\t\", items[items[\"movie id\"] == (index + 1)][\"movie title\"].values[0]  # index is offset by 1!"
   ]
  },
  {
   "cell_type": "markdown",
   "metadata": {},
   "source": [
    "## User-based NN recommendations"
   ]
  },
  {
   "cell_type": "code",
   "execution_count": 7,
   "metadata": {
    "collapsed": false
   },
   "outputs": [
    {
     "name": "stdout",
     "output_type": "stream",
     "text": [
      "Preparing data for training...\n",
      "100.00%\n",
      "Just one more thing...\n",
      "99.89%\n",
      "\n",
      "Preparing data for testing...\n",
      "99.99%\n",
      "Just one more thing...\n",
      "99.89%\n",
      "\n",
      "Done!\n"
     ]
    }
   ],
   "source": [
    "MAX_RATING = 5\n",
    "\n",
    "def prepare_data(data):\n",
    "    users_features = {}\n",
    "    for idx, i in data.iterrows():\n",
    "        movie = items[items[\"movie id\"] == i[\"movie_id\"]]\n",
    "        movie_features = pd.DataFrame(data=movie, columns=[\"Action\", \"Adventure\", \"Animation\", \"Children's\", \"Comedy\", \"Crime\",\n",
    "                                                           \"Documentary\", \"Drama\", \"Fantasy\", \"Film-Noir\", \"Horror\", \"Musical\",\n",
    "                                                           \"Mystery\", \"Romance\", \"Sci-Fi\", \"Thriller\", \"War\",\n",
    "                                                           \"Western\"]).as_matrix()[0]\n",
    "\n",
    "        rating = i[\"rating\"]\n",
    "        user_id = i[\"user_id\"]\n",
    "        age = users[users[\"user_id\"] == user_id][\"age\"].values[0]\n",
    "        sex = users[users[\"user_id\"] == user_id][\"sex\"].values[0]\n",
    "        occupation = users[users[\"user_id\"] == user_id][\"occupation\"].values[0]\n",
    "        zip_code = users[users[\"user_id\"] == user_id][\"zip_code\"].values[0]\n",
    "        \n",
    "        try:\n",
    "            float(users[users[\"user_id\"] == user_id][\"zip_code\"].values[0])\n",
    "        except ValueError, _:\n",
    "            # Some zip codes are not a string of digits. Due to way in which we will later adjust the zip codes feature, we will\n",
    "            # ignore the users with such zip codes.\n",
    "            continue\n",
    "\n",
    "        weighted_movie_features = rating * movie_features / float(MAX_RATING)\n",
    "\n",
    "        if user_id not in users_features:\n",
    "            users_features[user_id] = {\n",
    "                \"data\": {\n",
    "                    \"age\": age,\n",
    "                    \"sex\": sex,\n",
    "                    \"occupation\": occupation,\n",
    "                    \"zip_code\": zip_code,\n",
    "                },\n",
    "                \"weighted_movie_features\": weighted_movie_features,\n",
    "                \"movie_count\": 1,\n",
    "                \"average_rating\": rating\n",
    "            }\n",
    "        else:\n",
    "            curr_weighted_movie_features = users_features[user_id][\"weighted_movie_features\"]\n",
    "            curr_movie_count = users_features[user_id][\"movie_count\"]\n",
    "            curr_average_rating = users_features[user_id][\"average_rating\"]\n",
    "            curr_data = users_features[user_id][\"data\"]\n",
    "\n",
    "            updated_weighted_movie_features = curr_weighted_movie_features + weighted_movie_features\n",
    "            updated_movie_count = curr_movie_count + 1\n",
    "            updated_average_rating = curr_average_rating + rating\n",
    "\n",
    "            users_features[user_id] = {\n",
    "                \"data\": curr_data,\n",
    "                \"weighted_movie_features\": updated_weighted_movie_features,\n",
    "                \"movie_count\": updated_movie_count,\n",
    "                \"average_rating\": updated_average_rating\n",
    "            }\n",
    "\n",
    "        sys.stdout.write(\"\\r%0.2f%%\" % (float(idx) / data.shape[0] * 100))\n",
    "        sys.stdout.flush()\n",
    "\n",
    "\n",
    "    print \"\\nJust one more thing...\"\n",
    "    idx = 0\n",
    "    for _, user in users_features.iteritems():\n",
    "        user[\"weighted_movie_features\"] = np.round(user[\"weighted_movie_features\"] / float(user[\"movie_count\"]), 2)\n",
    "        user[\"average_rating\"] = np.round(user[\"average_rating\"] / float(user[\"movie_count\"]), 2)\n",
    "\n",
    "        sys.stdout.write(\"\\r%0.2f%%\" % (float(idx) / len(users_features) * 100))\n",
    "        sys.stdout.flush()\n",
    "\n",
    "        idx += 1\n",
    "        \n",
    "    return users_features\n",
    "\n",
    "print \"Preparing data for training...\"\n",
    "train_data = prepare_data(ratings_train)\n",
    "\n",
    "print \"\\n\\nPreparing data for testing...\"\n",
    "test_data = prepare_data(ratings_test)\n",
    "\n",
    "print \"\\n\\nDone!\""
   ]
  },
  {
   "cell_type": "code",
   "execution_count": 8,
   "metadata": {
    "collapsed": false
   },
   "outputs": [
    {
     "name": "stdout",
     "output_type": "stream",
     "text": [
      "Recommendations for User 1:\n",
      "\tGood Morning (1971)\n",
      "\tunknown\n",
      "\tWar at Home, The (1996)\n",
      "\tEighth Day, The (1996)\n",
      "\tNext Step, The (1995)\n",
      "\tAll Things Fair (1996)\n",
      "\tBitter Sugar (Azucar Amargo) (1996)\n",
      "\tSilence of the Palace, The (Saimt el Qusur) (1994)\n",
      "\tSunchaser, The (1996)\n",
      "\tMamma Roma (1962)\n",
      "\tSweet Nothing (1995)\n",
      "\tMat' i syn (1997)\n",
      "\tEtz Hadomim Tafus (Under the Domin Tree) (1994)\n",
      "\tDesert Winds (1995)\n",
      "\tCérémonie, La (1995)\n",
      "\tLamerica (1994)\n",
      "\tBrothers in Trouble (1995)\n",
      "\tFurther Gesture, A (1996)\n",
      "\tKika (1993)\n",
      "\tTwo Friends (1986) \n"
     ]
    }
   ],
   "source": [
    "# Recommendations for current users\n",
    "\n",
    "# Example for user 1\n",
    "distances, indices = knn.kneighbors(np.array([train_data[1][\"weighted_movie_features\"]]))\n",
    "\n",
    "print \"Recommendations for User 1:\"\n",
    "for index in indices[0]:\n",
    "    print \"\\t\", items[items[\"movie id\"] == (index + 1)][\"movie title\"].values[0]  # index is offset by 1!"
   ]
  },
  {
   "cell_type": "markdown",
   "metadata": {},
   "source": [
    "### Addressing the cold start issue in User-based NN recommendations\n",
    "\n",
    "In recommendation systems, the cold start issue happens when a new user with no previous item viewings/ratings is\n",
    "added to the system.\n",
    "\n",
    "https://en.wikipedia.org/wiki/Cold_start"
   ]
  },
  {
   "cell_type": "markdown",
   "metadata": {},
   "source": [
    "#### Adjust the data"
   ]
  },
  {
   "cell_type": "code",
   "execution_count": 9,
   "metadata": {
    "collapsed": false
   },
   "outputs": [],
   "source": [
    "# Occupations\n",
    "# Simply create a map from occupations to integers\n",
    "\n",
    "def fix_occupations(data):\n",
    "    occupations = set()\n",
    "    for _, i in data.iteritems():\n",
    "        occupations.add(i[\"data\"][\"occupation\"])\n",
    "\n",
    "    occupation_map = {occupation: idx for idx, occupation in enumerate(occupations)}\n",
    "\n",
    "    for _, v in data.iteritems():\n",
    "        v[\"data\"][\"occupation\"] = occupation_map[v[\"data\"][\"occupation\"]]\n",
    "\n",
    "fix_occupations(train_data)\n",
    "fix_occupations(test_data)"
   ]
  },
  {
   "cell_type": "code",
   "execution_count": 10,
   "metadata": {
    "collapsed": true
   },
   "outputs": [],
   "source": [
    "# Zip Code\n",
    "#\n",
    "# The US Zip Codes can be decoded in the following way (http://about.usps.com/news/state-releases/fl/2009/fl_2009_1028a.htm):\n",
    "#     - the first digit represents a general region of the country (0 is in the East and 9 is in the West)\n",
    "#     - the second and third digits represent regional areas\n",
    "#     - the last two represent specific post offices\n",
    "#\n",
    "# Since the zip code representation is very small in this dataset, we will only consider the first value as geographical\n",
    "# information, which is still useful data and should be much more represented.\n",
    "\n",
    "def fix_zip_code(data):\n",
    "    for _, v in data.iteritems():\n",
    "        v[\"data\"][\"zip_code\"] = int(v[\"data\"][\"zip_code\"][0])\n",
    "\n",
    "fix_zip_code(train_data)\n",
    "fix_zip_code(test_data)"
   ]
  },
  {
   "cell_type": "code",
   "execution_count": 11,
   "metadata": {
    "collapsed": true
   },
   "outputs": [],
   "source": [
    "# Sex\n",
    "# 1 is Female, 2 is Male\n",
    "\n",
    "def fix_sex(data):\n",
    "    for _, v in data.iteritems():\n",
    "        if v[\"data\"][\"sex\"] == \"M\":\n",
    "            v[\"data\"][\"sex\"] = 2\n",
    "        else:\n",
    "            v[\"data\"][\"sex\"] = 1\n",
    "\n",
    "fix_sex(train_data)\n",
    "fix_sex(test_data)"
   ]
  },
  {
   "cell_type": "code",
   "execution_count": 12,
   "metadata": {
    "collapsed": true
   },
   "outputs": [],
   "source": [
    "# Age\n",
    "# Create a set of age groups\n",
    "\n",
    "def fix_age(data):\n",
    "    groups = [\n",
    "        {\"min\": 0, \"max\": 15, \"code\": 0},\n",
    "        {\"min\": 15, \"max\": 25, \"code\": 1},\n",
    "        {\"min\": 25, \"max\": 35, \"code\": 2},\n",
    "        {\"min\": 35, \"max\": 30, \"code\": 3},\n",
    "        {\"min\": 50, \"max\": 150, \"code\": 4}\n",
    "    ]\n",
    "\n",
    "    for _, v in data.iteritems():\n",
    "        age = v[\"data\"][\"age\"]\n",
    "        for group in groups:\n",
    "            if age >= group[\"min\"] and age < group[\"max\"]:\n",
    "                v[\"data\"][\"age\"] = group[\"code\"]\n",
    "\n",
    "fix_age(train_data)\n",
    "fix_age(test_data)"
   ]
  },
  {
   "cell_type": "markdown",
   "metadata": {},
   "source": [
    "#### Use a Random Forest Regressor to fit the data"
   ]
  },
  {
   "cell_type": "code",
   "execution_count": 13,
   "metadata": {
    "collapsed": false
   },
   "outputs": [
    {
     "data": {
      "text/plain": [
       "RandomForestRegressor(bootstrap=True, criterion='mse', max_depth=None,\n",
       "           max_features='auto', max_leaf_nodes=None,\n",
       "           min_impurity_split=1e-07, min_samples_leaf=1,\n",
       "           min_samples_split=2, min_weight_fraction_leaf=0.0,\n",
       "           n_estimators=10, n_jobs=1, oob_score=False, random_state=None,\n",
       "           verbose=0, warm_start=False)"
      ]
     },
     "execution_count": 13,
     "metadata": {},
     "output_type": "execute_result"
    }
   ],
   "source": [
    "rfc = RandomForestRegressor()\n",
    "\n",
    "X = [user[\"data\"].values() for _, user in train_data.iteritems()]\n",
    "y = [user[\"weighted_movie_features\"] for _, user in train_data.iteritems()]\n",
    "\n",
    "rfc.fit(X, y)"
   ]
  },
  {
   "cell_type": "code",
   "execution_count": null,
   "metadata": {
    "collapsed": false
   },
   "outputs": [],
   "source": [
    "X_test = [user[\"data\"].values() for _, user in test_data.iteritems()]\n",
    "y_test = [user[\"weighted_movie_features\"] for _, user in test_data.iteritems()]\n",
    "\n",
    "resulpply(X_test)"
   ]
  },
  {
   "cell_type": "code",
   "execution_count": null,
   "metadata": {
    "collapsed": false
   },
   "outputs": [],
   "source": [
    "for x in X:\n",
    "    for i in x:\n",
    "        if isinstance(i, basestring):\n",
    "            print i"
   ]
  },
  {
   "cell_type": "code",
   "execution_count": null,
   "metadata": {
    "collapsed": false
   },
   "outputs": [],
   "source": [
    "float(\"asd\")"
   ]
  },
  {
   "cell_type": "code",
   "execution_count": null,
   "metadata": {
    "collapsed": true
   },
   "outputs": [],
   "source": []
  }
 ],
 "metadata": {
  "kernelspec": {
   "display_name": "Python 2",
   "language": "python",
   "name": "python2"
  },
  "language_info": {
   "codemirror_mode": {
    "name": "ipython",
    "version": 2
   },
   "file_extension": ".py",
   "mimetype": "text/x-python",
   "name": "python",
   "nbconvert_exporter": "python",
   "pygments_lexer": "ipython2",
   "version": "2.7.13"
  }
 },
 "nbformat": 4,
 "nbformat_minor": 2
}
