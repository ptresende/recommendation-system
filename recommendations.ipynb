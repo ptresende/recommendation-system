{
 "cells": [
  {
   "cell_type": "code",
   "execution_count": 1,
   "metadata": {
    "collapsed": true
   },
   "outputs": [],
   "source": [
    "import numpy as np\n",
    "import pandas as pd\n",
    "from math import sqrt\n",
    "\n",
    "import scipy.sparse as sp\n",
    "from scipy.sparse.linalg import svds\n",
    "\n",
    "from sklearn.metrics import mean_squared_error\n",
    "from sklearn.metrics.pairwise import pairwise_distances\n",
    "\n",
    "from operator import itemgetter"
   ]
  },
  {
   "cell_type": "code",
   "execution_count": 2,
   "metadata": {
    "collapsed": true
   },
   "outputs": [],
   "source": [
    "SHOW_DATA = True"
   ]
  },
  {
   "cell_type": "markdown",
   "metadata": {},
   "source": [
    "## Load data"
   ]
  },
  {
   "cell_type": "code",
   "execution_count": 3,
   "metadata": {
    "collapsed": false
   },
   "outputs": [],
   "source": [
    "# Users file\n",
    "users_cols = ['user_id', 'age', 'sex', 'occupation', 'zip_code']\n",
    "users = pd.read_csv('ml-100k/u.user', sep='|', names=users_cols, encoding='latin-1')\n",
    "\n",
    "# Ratings file\n",
    "ratings_cols = ['user_id', 'movie_id', 'rating', 'unix_timestamp']\n",
    "ratings = pd.read_csv('ml-100k/u.data', sep='\\t', names=ratings_cols, encoding='latin-1')\n",
    "\n",
    "# Train + Test ratings\n",
    "ratings_train = pd.read_csv('ml-100k/ua.base', sep='\\t', names=ratings_cols, encoding='latin-1')\n",
    "ratings_test = pd.read_csv('ml-100k/ua.test', sep='\\t', names=ratings_cols, encoding='latin-1')\n",
    "\n",
    "# Items file\n",
    "items_cols = ['movie id', 'movie title' ,'release date','video release date', 'IMDb URL', 'unknown', 'Action', 'Adventure',\n",
    "              'Animation', 'Children\\'s', 'Comedy', 'Crime', 'Documentary', 'Drama', 'Fantasy', 'Film-Noir', 'Horror',\n",
    "              'Musical', 'Mystery', 'Romance', 'Sci-Fi', 'Thriller', 'War', 'Western']\n",
    "items = pd.read_csv('ml-100k/u.item', sep='|', names=items_cols, encoding='latin-1')"
   ]
  },
  {
   "cell_type": "code",
   "execution_count": 4,
   "metadata": {
    "collapsed": false
   },
   "outputs": [
    {
     "name": "stdout",
     "output_type": "stream",
     "text": [
      "Users: (943, 5) \n",
      "   user_id  age sex  occupation zip_code\n",
      "0        1   24   M  technician    85711\n",
      "1        2   53   F       other    94043\n",
      "2        3   23   M      writer    32067\n",
      "3        4   24   M  technician    43537\n",
      "4        5   33   F       other    15213 \n",
      "\n",
      "\n",
      "Ratings: (100000, 4) \n",
      "   user_id  movie_id  rating  unix_timestamp\n",
      "0      196       242       3       881250949\n",
      "1      186       302       3       891717742\n",
      "2       22       377       1       878887116\n",
      "3      244        51       2       880606923\n",
      "4      166       346       1       886397596 \n",
      "\n",
      "\n",
      "Items: (1682, 24) \n",
      "   movie id        movie title release date  video release date  \\\n",
      "0         1   Toy Story (1995)  01-Jan-1995                 NaN   \n",
      "1         2   GoldenEye (1995)  01-Jan-1995                 NaN   \n",
      "2         3  Four Rooms (1995)  01-Jan-1995                 NaN   \n",
      "3         4  Get Shorty (1995)  01-Jan-1995                 NaN   \n",
      "4         5     Copycat (1995)  01-Jan-1995                 NaN   \n",
      "\n",
      "                                            IMDb URL  unknown  Action  \\\n",
      "0  http://us.imdb.com/M/title-exact?Toy%20Story%2...        0       0   \n",
      "1  http://us.imdb.com/M/title-exact?GoldenEye%20(...        0       1   \n",
      "2  http://us.imdb.com/M/title-exact?Four%20Rooms%...        0       0   \n",
      "3  http://us.imdb.com/M/title-exact?Get%20Shorty%...        0       1   \n",
      "4  http://us.imdb.com/M/title-exact?Copycat%20(1995)        0       0   \n",
      "\n",
      "   Adventure  Animation  Children's   ...     Fantasy  Film-Noir  Horror  \\\n",
      "0          0          1           1   ...           0          0       0   \n",
      "1          1          0           0   ...           0          0       0   \n",
      "2          0          0           0   ...           0          0       0   \n",
      "3          0          0           0   ...           0          0       0   \n",
      "4          0          0           0   ...           0          0       0   \n",
      "\n",
      "   Musical  Mystery  Romance  Sci-Fi  Thriller  War  Western  \n",
      "0        0        0        0       0         0    0        0  \n",
      "1        0        0        0       0         1    0        0  \n",
      "2        0        0        0       0         1    0        0  \n",
      "3        0        0        0       0         0    0        0  \n",
      "4        0        0        0       0         1    0        0  \n",
      "\n",
      "[5 rows x 24 columns]\n"
     ]
    }
   ],
   "source": [
    "if SHOW_DATA:\n",
    "    print \"Users:\", users.shape, \"\\n\", users.head(), \"\\n\\n\"\n",
    "    print \"Ratings:\", ratings.shape, \"\\n\", ratings.head(), \"\\n\\n\"\n",
    "    print \"Items:\", items.shape, \"\\n\", items.head()"
   ]
  },
  {
   "cell_type": "code",
   "execution_count": 5,
   "metadata": {
    "collapsed": false
   },
   "outputs": [],
   "source": [
    "# Train data\n",
    "user_item_train = np.zeros((users.shape[0], items.shape[0]))\n",
    "\n",
    "for _, i in ratings_train.iterrows():\n",
    "    user = i[\"user_id\"] - 1  # ids start at 1!\n",
    "    item = i[\"movie_id\"] - 1  # ids start at 1!\n",
    "    rating = i[\"rating\"]\n",
    "    \n",
    "    user_item_train[user, item] = rating\n",
    "\n",
    "# Test Data\n",
    "user_item_test = np.zeros((users.shape[0], items.shape[0]))\n",
    "\n",
    "for _, i in ratings_test.iterrows():\n",
    "    user = i[\"user_id\"] - 1  # ids start at 1!\n",
    "    item = i[\"movie_id\"] - 1  # ids start at 1!\n",
    "    rating = i[\"rating\"]\n",
    "    \n",
    "    user_item_test[user, item] = rating"
   ]
  },
  {
   "cell_type": "markdown",
   "metadata": {},
   "source": [
    "## Memory-based collaborative filtering"
   ]
  },
  {
   "cell_type": "code",
   "execution_count": 6,
   "metadata": {
    "collapsed": false
   },
   "outputs": [],
   "source": [
    "# Compute the item-item similarity based on the Cosine-Similarity distance\n",
    "item_similarity = pairwise_distances(user_item_train.T, metric='cosine')"
   ]
  },
  {
   "cell_type": "code",
   "execution_count": 7,
   "metadata": {
    "collapsed": false
   },
   "outputs": [],
   "source": [
    "# Compute the item recomendations per user\n",
    "recommendations_memory = user_item_train.dot(item_similarity) / np.array([np.abs(item_similarity).sum(axis=1)])"
   ]
  },
  {
   "cell_type": "markdown",
   "metadata": {},
   "source": [
    "## Model-based collaborative filtering"
   ]
  },
  {
   "cell_type": "code",
   "execution_count": 8,
   "metadata": {
    "collapsed": false
   },
   "outputs": [],
   "source": [
    "# Taken from the Netflix competition paper\n",
    "# http://buzzard.ups.edu/courses/2014spring/420projects/math420-UPS-spring-2014-gower-netflix-SVD.pdf\n",
    "\n",
    "# Using SVD, the User-Item matrix is decomposed into two different matrices:\n",
    "#   U(i, j) - the importance that user i attributes to features j\n",
    "#   D(i, j) - the features i of item j\n",
    "\n",
    "# Compute the SVD of the train data matrix\n",
    "u, s, vt = svds(user_item_train, k=20)\n",
    "\n",
    "# Produce a diagonal matrix from S's entries\n",
    "s_diag_matrix = np.diag(s)\n",
    "\n",
    "# Compute the prediction\n",
    "recommendations_model = np.dot(np.dot(u, s_diag_matrix), vt)"
   ]
  },
  {
   "cell_type": "markdown",
   "metadata": {},
   "source": [
    "## Comparing the methods"
   ]
  },
  {
   "cell_type": "code",
   "execution_count": 9,
   "metadata": {
    "collapsed": false
   },
   "outputs": [],
   "source": [
    "def rmse(prediction, ground_truth):\n",
    "    prediction = prediction[ground_truth.nonzero()].flatten() \n",
    "    ground_truth = ground_truth[ground_truth.nonzero()].flatten()\n",
    "    return sqrt(mean_squared_error(prediction, ground_truth))"
   ]
  },
  {
   "cell_type": "code",
   "execution_count": 10,
   "metadata": {
    "collapsed": false
   },
   "outputs": [],
   "source": [
    "# Some examples\n",
    "def get_info_by_user_id(user_id, amount):\n",
    "    \"\"\" Print user info and _amount_ favorite movies titles \"\"\"\n",
    "    \n",
    "    user = users[users[\"user_id\"] == user_id]\n",
    "    print \"User\", user_id, \"Info:\\n\\t\", user, \"\\n\\n\"\n",
    "\n",
    "    user_1_movies = []\n",
    "\n",
    "    user_1_ratings = ratings[ratings[\"user_id\"] == user_id]\n",
    "    for _, rating in user_1_ratings.iterrows():\n",
    "        movie_id = rating[\"movie_id\"]\n",
    "        movie = items[items[\"movie id\"] == movie_id]\n",
    "\n",
    "        user_1_movies.append({\n",
    "            \"movie_name\": movie[\"movie title\"].values[0],\n",
    "            \"rating\": rating[\"rating\"]\n",
    "        })\n",
    "\n",
    "    # Sort movies array by rating\n",
    "    user_1_movies = sorted(user_1_movies, key=itemgetter('rating'), reverse=True)\n",
    "    print \"User\", user_id, \"Favorite Movies:\"\n",
    "    for movie in user_1_movies[:amount]:\n",
    "        print \"\\t\", movie\n",
    "        \n",
    "    print \"\\n\\n\"\n",
    "\n",
    "        \n",
    "def get_top_recomendations(recommendations, user_id, amount):\n",
    "    \"\"\" Print user _amount_ recommended movies titles \"\"\"\n",
    "    \n",
    "    user_recommendations = recommendations[user_id]\n",
    "    \n",
    "    recommended_movies = np.argsort(user_recommendations)\n",
    "    recommended_movies = recommended_movies[::-1]  # revert to get most recommended movie first\n",
    "    \n",
    "    print \"User\", user_id, \"Recommended Movies:\"\n",
    "    for movie_id in recommended_movies[:amount]:\n",
    "        print \"\\t\", items[items[\"movie id\"] == movie_id][\"movie title\"].values[0]\n",
    "\n",
    "        \n",
    "def run_for_user(user_id, prediction, amount=5):\n",
    "    get_info_by_user_id(user_id, amount)\n",
    "    get_top_recomendations(prediction, user_id, amount)\n",
    "    print \"\\n----------------------------------------------\\n\""
   ]
  },
  {
   "cell_type": "code",
   "execution_count": 11,
   "metadata": {
    "collapsed": false
   },
   "outputs": [
    {
     "name": "stdout",
     "output_type": "stream",
     "text": [
      "Method: memory \n",
      "\n",
      "\n",
      "RMSE: 3.60394279098 \n",
      "\n",
      "User 1 Info:\n",
      "\t   user_id  age sex  occupation zip_code\n",
      "0        1   24   M  technician    85711 \n",
      "\n",
      "\n",
      "User 1 Favorite Movies:\n",
      "\t{'rating': 5, 'movie_name': u'Groundhog Day (1993)'}\n",
      "\t{'rating': 5, 'movie_name': u'Delicatessen (1991)'}\n",
      "\t{'rating': 5, 'movie_name': u'Pillow Book, The (1995)'}\n",
      "\t{'rating': 5, 'movie_name': u'Horseman on the Roof, The (Hussard sur le toit, Le) (1995)'}\n",
      "\t{'rating': 5, 'movie_name': u'Shawshank Redemption, The (1994)'}\n",
      "\n",
      "\n",
      "\n",
      "User 1 Recommended Movies:\n",
      "\tVie est belle, La (Life is Rosey) (1987)\n",
      "\tCareful (1992)\n",
      "\tFrankie Starlight (1995)\n",
      "\tShow, The (1995)\n",
      "\tCondition Red (1995)\n",
      "\n",
      "----------------------------------------------\n",
      "\n",
      "Method: model \n",
      "\n",
      "\n",
      "RMSE: 2.82580756945 \n",
      "\n",
      "User 1 Info:\n",
      "\t   user_id  age sex  occupation zip_code\n",
      "0        1   24   M  technician    85711 \n",
      "\n",
      "\n",
      "User 1 Favorite Movies:\n",
      "\t{'rating': 5, 'movie_name': u'Groundhog Day (1993)'}\n",
      "\t{'rating': 5, 'movie_name': u'Delicatessen (1991)'}\n",
      "\t{'rating': 5, 'movie_name': u'Pillow Book, The (1995)'}\n",
      "\t{'rating': 5, 'movie_name': u'Horseman on the Roof, The (Hussard sur le toit, Le) (1995)'}\n",
      "\t{'rating': 5, 'movie_name': u'Shawshank Redemption, The (1994)'}\n",
      "\n",
      "\n",
      "\n",
      "User 1 Recommended Movies:\n",
      "\tSecrets & Lies (1996)\n",
      "\tIn & Out (1997)\n",
      "\tSnow White and the Seven Dwarfs (1937)\n",
      "\tChasing Amy (1997)\n",
      "\tMidnight in the Garden of Good and Evil (1997)\n",
      "\n",
      "----------------------------------------------\n",
      "\n"
     ]
    }
   ],
   "source": [
    "methods = [{\"name\": \"memory\", \"prediction\": recommendations_memory},\n",
    "           {\"name\": \"model\", \"prediction\": recommendations_model}]\n",
    "\n",
    "for method in methods:\n",
    "    print \"Method:\", method[\"name\"], \"\\n\\n\"\n",
    "    print \"RMSE:\", rmse(method[\"prediction\"], user_item_test), \"\\n\"\n",
    "    run_for_user(1, method[\"prediction\"])"
   ]
  },
  {
   "cell_type": "code",
   "execution_count": null,
   "metadata": {
    "collapsed": true
   },
   "outputs": [],
   "source": []
  }
 ],
 "metadata": {
  "kernelspec": {
   "display_name": "Python 2",
   "language": "python",
   "name": "python2"
  },
  "language_info": {
   "codemirror_mode": {
    "name": "ipython",
    "version": 2
   },
   "file_extension": ".py",
   "mimetype": "text/x-python",
   "name": "python",
   "nbconvert_exporter": "python",
   "pygments_lexer": "ipython2",
   "version": "2.7.13"
  }
 },
 "nbformat": 4,
 "nbformat_minor": 2
}
